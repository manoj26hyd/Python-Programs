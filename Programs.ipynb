{
 "metadata": {
  "language_info": {
   "codemirror_mode": {
    "name": "ipython",
    "version": 3
   },
   "file_extension": ".py",
   "mimetype": "text/x-python",
   "name": "python",
   "nbconvert_exporter": "python",
   "pygments_lexer": "ipython3",
   "version": "3.9.0"
  },
  "orig_nbformat": 2,
  "kernelspec": {
   "name": "python390jvsc74a57bd0f9ac0d975fe8b9c6d9b06cfda553d47330817cfc23cd6ab44a98e12b77f081c9",
   "display_name": "Python 3.9.0 64-bit ('venv': venv)",
   "language": "python"
  }
 },
 "nbformat": 4,
 "nbformat_minor": 2,
 "cells": [
  {
   "source": [
    "### Program-1"
   ],
   "cell_type": "markdown",
   "metadata": {}
  },
  {
   "cell_type": "code",
   "execution_count": 1,
   "metadata": {},
   "outputs": [],
   "source": [
    "sentence1 = \"Hi all, my name is Tom...I am originally from Australia.\"\n",
    "sentence2 = \"I need to work very hard to learn more about algorithms in Python!\""
   ]
  },
  {
   "cell_type": "code",
   "execution_count": 15,
   "metadata": {},
   "outputs": [
    {
     "output_type": "stream",
     "name": "stdout",
     "text": [
      "4.2\n4.076923076923077\n"
     ]
    }
   ],
   "source": [
    "\n",
    "def average_word_len(sentence):\n",
    "    for i in \".,!\":  # Remove Special Characters\n",
    "        sentence = sentence.replace(i, \"\")  \n",
    "\n",
    "    sentence = sentence.split() # Convert sentence into list of words\n",
    "\n",
    "    word_lengths = [len(word) for word in sentence]\n",
    "\n",
    "    average = sum(word_lengths)/len(word_lengths)\n",
    "\n",
    "    return average\n",
    "\n",
    "print(average_word_len(sentence = \"Hi all, my name is Tom...I am originally from Australia.\"))\n",
    "print(average_word_len(sentence = \"I need to work very hard to learn more about algorithms in Python!\"))    "
   ]
  },
  {
   "source": [
    "### Program-2"
   ],
   "cell_type": "markdown",
   "metadata": {}
  },
  {
   "cell_type": "code",
   "execution_count": 18,
   "metadata": {},
   "outputs": [
    {
     "output_type": "execute_result",
     "data": {
      "text/plain": [
       "687"
      ]
     },
     "metadata": {},
     "execution_count": 18
    }
   ],
   "source": [
    "# Given two non-negative integers num1 and num2 represented as string, return the sum of num1 and num2.\n",
    "# You must not use any built-in BigInteger library or convert the inputs to integer directly.\n",
    "\n",
    "def addition(num1, num2):\n",
    "    result = eval(num1) + eval(num2)\n",
    "    return result\n",
    "\n",
    "addition(\"123\", \"564\")"
   ]
  },
  {
   "source": [
    "### Program-3"
   ],
   "cell_type": "markdown",
   "metadata": {}
  },
  {
   "cell_type": "code",
   "execution_count": null,
   "metadata": {},
   "outputs": [],
   "source": [
    "# Given a string, find the first non-repeating character in it and return its index. \n",
    "# If it doesn't exist, return -1. # Note: all the input strings are already lowercase.\n",
    "\n"
   ]
  },
  {
   "cell_type": "code",
   "execution_count": 24,
   "metadata": {},
   "outputs": [],
   "source": [
    "str1 = \"alphabet\"\n",
    "\n",
    "dict1 = {}\n",
    "for i in str1:\n",
    "    if i in dict1:\n",
    "        dict1[i] = dict1[i] + 1\n",
    "    else:\n",
    "        dict1[i] = 1"
   ]
  },
  {
   "cell_type": "code",
   "execution_count": 25,
   "metadata": {},
   "outputs": [
    {
     "output_type": "execute_result",
     "data": {
      "text/plain": [
       "{'a': 2, 'l': 1, 'p': 1, 'h': 1, 'b': 1, 'e': 1, 't': 1}"
      ]
     },
     "metadata": {},
     "execution_count": 25
    }
   ],
   "source": [
    "dict1"
   ]
  },
  {
   "cell_type": "code",
   "execution_count": 39,
   "metadata": {},
   "outputs": [
    {
     "output_type": "error",
     "ename": "SyntaxError",
     "evalue": "'return' outside function (<ipython-input-39-3306250f9072>, line 4)",
     "traceback": [
      "\u001b[1;36m  File \u001b[1;32m\"<ipython-input-39-3306250f9072>\"\u001b[1;36m, line \u001b[1;32m4\u001b[0m\n\u001b[1;33m    return i\u001b[0m\n\u001b[1;37m    ^\u001b[0m\n\u001b[1;31mSyntaxError\u001b[0m\u001b[1;31m:\u001b[0m 'return' outside function\n"
     ]
    }
   ],
   "source": [
    "counts = list(dict1.values())\n",
    "for i in range(len(dict1)):\n",
    "    if counts[i] == 1:\n",
    "        return i\n",
    "        break\n"
   ]
  },
  {
   "cell_type": "code",
   "execution_count": 36,
   "metadata": {},
   "outputs": [
    {
     "output_type": "execute_result",
     "data": {
      "text/plain": [
       "[2, 1, 1, 1, 1, 1, 1]"
      ]
     },
     "metadata": {},
     "execution_count": 36
    }
   ],
   "source": [
    "list(dict1.values())"
   ]
  },
  {
   "cell_type": "code",
   "execution_count": 66,
   "metadata": {},
   "outputs": [],
   "source": [
    "def first_unique(string):\n",
    "\n",
    "    character_counts = {}\n",
    "\n",
    "    for character in string:\n",
    "        if character in character_counts:\n",
    "            character_counts[character] = character_counts[character] + 1\n",
    "        else:\n",
    "            character_counts[character] = 1\n",
    "\n",
    "    count_list = list(character_counts.values())\n",
    "\n",
    "    for index in range(len(count_list)):\n",
    "        if count_list[index] == 1:\n",
    "            return index       \n",
    "    \n",
    "    return -1            "
   ]
  },
  {
   "cell_type": "code",
   "execution_count": 69,
   "metadata": {},
   "outputs": [
    {
     "output_type": "stream",
     "name": "stdout",
     "text": [
      "1\n2\n1\n"
     ]
    }
   ],
   "source": [
    "print(first_unique(string = \"alphabet\")) # 1\n",
    "print(first_unique(string = \"barbados\")) # 2\n",
    "print(first_unique(string = \"crunchy\"))  # 1"
   ]
  },
  {
   "cell_type": "code",
   "execution_count": 54,
   "metadata": {},
   "outputs": [],
   "source": [
    "def solution(s):\n",
    "    frequency = {}\n",
    "    for i in s:\n",
    "        if i not in frequency:\n",
    "            frequency[i] = 1\n",
    "        else:\n",
    "            frequency[i] +=1\n",
    "    for i in range(len(s)):\n",
    "        if frequency[s[i]] == 1:\n",
    "            return i\n",
    "    return -1"
   ]
  },
  {
   "cell_type": "code",
   "execution_count": 56,
   "metadata": {},
   "outputs": [
    {
     "output_type": "execute_result",
     "data": {
      "text/plain": [
       "-1"
      ]
     },
     "metadata": {},
     "execution_count": 56
    }
   ],
   "source": [
    "solution(\"mmnn\")"
   ]
  },
  {
   "cell_type": "code",
   "execution_count": null,
   "metadata": {},
   "outputs": [],
   "source": []
  }
 ]
}