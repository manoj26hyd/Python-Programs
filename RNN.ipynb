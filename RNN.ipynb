{
  "nbformat": 4,
  "nbformat_minor": 0,
  "metadata": {
    "colab": {
      "name": "RNN.ipynb",
      "provenance": [],
      "authorship_tag": "ABX9TyMwJk+D7izabr3pf6d/vVH5",
      "include_colab_link": true
    },
    "kernelspec": {
      "name": "python3",
      "display_name": "Python 3"
    },
    "language_info": {
      "name": "python"
    }
  },
  "cells": [
    {
      "cell_type": "markdown",
      "metadata": {
        "id": "view-in-github",
        "colab_type": "text"
      },
      "source": [
        "<a href=\"https://colab.research.google.com/github/manoj26hyd/Python-Programs/blob/master/RNN.ipynb\" target=\"_parent\"><img src=\"https://colab.research.google.com/assets/colab-badge.svg\" alt=\"Open In Colab\"/></a>"
      ]
    },
    {
      "cell_type": "markdown",
      "metadata": {
        "id": "8XppOrsCH7Xl"
      },
      "source": [
        "## Recurrent Neural Network"
      ]
    },
    {
      "cell_type": "code",
      "metadata": {
        "colab": {
          "base_uri": "https://localhost:8080/"
        },
        "id": "Th5BJEopIhii",
        "outputId": "6f47683c-5164-4fbb-cdc5-e03cb1280191"
      },
      "source": [
        "class Student:\n",
        "  \n",
        "  def __init__(self):\n",
        "    self.name = \"Manoj Kumar\"\n",
        "    self.city = \"Address\"\n",
        "    self.state = \"Telangana\"\n",
        "    self.pincode = \"500018\"\n",
        "    self.display()\n",
        "\n",
        "  def display(self):\n",
        "    print(\"Name:\", self.name)\n",
        "    print(\"City:\", self.city)\n",
        "    print(\"State:\", self.state)\n",
        "    print(\"Pincode:\", self.pincode)\n",
        "\n",
        "s1 = Student()    "
      ],
      "execution_count": 2,
      "outputs": [
        {
          "output_type": "stream",
          "text": [
            "Name: Manoj Kumar\n",
            "City: Address\n",
            "State: Telangana\n",
            "Pincode: 500018\n"
          ],
          "name": "stdout"
        }
      ]
    }
  ]
}